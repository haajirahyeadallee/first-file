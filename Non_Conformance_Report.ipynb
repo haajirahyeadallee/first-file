{
  "nbformat": 4,
  "nbformat_minor": 0,
  "metadata": {
    "colab": {
      "provenance": []
    },
    "kernelspec": {
      "name": "python3",
      "display_name": "Python 3"
    },
    "language_info": {
      "name": "python"
    }
  },
  "cells": [
    {
      "cell_type": "markdown",
      "source": [
        "#**Non Conformance Report**"
      ],
      "metadata": {
        "id": "C-cF4MsRdg62"
      }
    },
    {
      "cell_type": "markdown",
      "source": [
        "This study will provide solutions on the issues that arose during the Enron Email Analysis' Programming and how they were fixed."
      ],
      "metadata": {
        "id": "pU_cjMkKfUG9"
      }
    },
    {
      "cell_type": "markdown",
      "source": [
        "##The Problem \n",
        "\n",
        "Error for query for busiest time period.\n",
        "##The Severity And Impact \n",
        "Given tha it was one of the tasks that had to be completed for the report, the severity would be considered to be moderate, and the effect would be substantial.\n",
        "\n",
        "##How It Happened\n",
        "It would have required to be initially written as a query in order to find the busiest time period. But after the query was sent, it had mistakes. It was tough to find a fix for the mistakes.\n",
        "##Preventation \n",
        "The answer was to build a query that used data from a range of dates to construct a graph instead. From this point on, it would be simpler to divide the code into two distinct plots, and pinpoint the busiest time of day.\n",
        "\n",
        "##Time Estimation\n",
        "It will take around ten minutes to rerun the query completely in order to correct the problem, plus an additional ten minutes to bring in any new needs."
      ],
      "metadata": {
        "id": "n56O8eRkeE51"
      }
    }
  ]
}