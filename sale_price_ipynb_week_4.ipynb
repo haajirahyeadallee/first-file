{
  "nbformat": 4,
  "nbformat_minor": 0,
  "metadata": {
    "colab": {
      "provenance": []
    },
    "kernelspec": {
      "name": "python3",
      "display_name": "Python 3"
    },
    "language_info": {
      "name": "python"
    }
  },
  "cells": [
    {
      "cell_type": "markdown",
      "metadata": {
        "id": "cgTeiXOtSPjH"
      },
      "source": [
        "# Sales Price\n",
        "\n",
        "A local department store needs to develop a program that will computer the total price (including goods and services tax) of the item on sale when given an item's original price and discount percentage.\n",
        "\n",
        "## Tasks\n",
        "* Save to Github\n",
        "* Design Algorithm\n",
        "* Write and test the program in Python"
      ]
    },
    {
      "cell_type": "code",
      "source": [
        "def calculate_totalprice(originalprice, discount, tax):\n",
        "  discountedprice = originalprice - (originalprice * discount)\n",
        "  taxAmount = tax * discountedprice\n",
        "  totalPrice = discountedprice + taxAmount\n",
        "  print('Originalprice: ' , originalprice)\n",
        "  print('Discounted price ' , discountedprice)\n",
        "  print('Tax: ' , tax)\n",
        "  print('Total Price: ' , totalPrice)\n",
        "\n",
        "calculate_totalprice(40, 0.3, 0.07)\n",
        "\n",
        "\n",
        "\n",
        "\n",
        "\n"
      ],
      "metadata": {
        "colab": {
          "base_uri": "https://localhost:8080/"
        },
        "id": "HQSBa7lY5tuM",
        "outputId": "44365090-cf74-4a59-cbbf-1f5a341c47c2"
      },
      "execution_count": 35,
      "outputs": [
        {
          "output_type": "stream",
          "name": "stdout",
          "text": [
            "Originalprice:  40\n",
            "Discounted price  28.0\n",
            "Tax:  0.07\n",
            "Total Price:  29.96\n"
          ]
        }
      ]
    }
  ]
}