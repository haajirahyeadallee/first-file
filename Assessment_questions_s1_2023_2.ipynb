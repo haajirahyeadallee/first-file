{
  "nbformat": 4,
  "nbformat_minor": 0,
  "metadata": {
    "colab": {
      "private_outputs": true,
      "provenance": [],
      "include_colab_link": true
    },
    "kernelspec": {
      "name": "python3",
      "display_name": "Python 3"
    },
    "language_info": {
      "name": "python"
    }
  },
  "cells": [
    {
      "cell_type": "markdown",
      "metadata": {
        "id": "view-in-github",
        "colab_type": "text"
      },
      "source": [
        "<a href=\"https://colab.research.google.com/github/haajirahyeadallee/first-file/blob/main/Assessment_questions_s1_2023_2.ipynb\" target=\"_parent\"><img src=\"https://colab.research.google.com/assets/colab-badge.svg\" alt=\"Open In Colab\"/></a>"
      ]
    },
    {
      "cell_type": "markdown",
      "source": [
        "<center>\n",
        "\n",
        "# Extended Learning Portfolio\n",
        "\n",
        "**ISYS2001 Introduction to Business Programming**\n",
        "\n",
        "<small>School of Management\n",
        "\n",
        "Semester 1 2023\n",
        "</small>\n",
        "</center>\n",
        "\n",
        "This examination is an open-book format. You are permitted to utilise a variety of resources, including textbooks, web content, and AI tools, to complete the exam. However, it's important to note that all work submitted must be your own. Any work or ideas not your own must be properly referenced.\n",
        "\n",
        "Please refrain from discussing your responses to these questions with fellow students. If you have any inquiries about the questions about this assessment, please contact the instructor directly.  Any questions submitted to the instructor concerning this assesment will have the question and responses will be posted to this discussion forum.\n",
        "\n",
        "The examination duration is a total of 24 hours. This time frame begins at the predetermined exam start time and does not depend on when you commence the download. If you have accommodations under a CAP arrangement, the duration of the exam will be adjusted accordingly. If you feel that your CAP accommodations have not been satisfactorily implemented, please reach out to me immediately.\n",
        "\n",
        "This examination consists of four questions in total, and you are required to provide answers to all of them. Each question should be contained within its own notebook, with the exception of Question Four, which can be compiled in a Microsoft Word document. To submit your answers, please establish a private GitHub repository and upload all of your responses to the designated questions, inclusive of the Word document for Question Four, to this repository.\n",
        "\n",
        "Upon completion of all the questions, proceed to download the zip file of your GitHub repository. This file should be submitted via the link provided on Blackboard. Additionally, a separate submission of the Word document for Question Four must be made through the Turnitin link available on Blackboard."
      ],
      "metadata": {
        "id": "1M9yB5U0yefZ"
      }
    },
    {
      "cell_type": "markdown",
      "source": [
        "# Question 1\n",
        "\n",
        "Write a Python program within this or another notebook that performs advanced file analysis. The program should prompt the user to enter the path to a text file and allow them to choose from various analysis options:\n",
        "\n",
        "* Counting the number of lines.\n",
        "* Counting the total number of words.\n",
        "* Counting the total number of characters, both including and excluding whitespace.\n",
        "* Identifying the frequency of each word in the text.\n",
        "* Identifying the top 5 most common words in the text.\n",
        "\n",
        "After receiving the user input, your program should read the file and perform the chosen analysis, outputting the results in a clear, human-readable format.\n",
        "\n",
        "*Question subparts:*\n",
        "\n",
        "1. Implement the notebook program as described above. Your program should be robust and handle possible edge cases, such as file not found or incorrect input from the user.\n",
        "2. Write a brief description of your program, explaining how to use it and what each analysis option does. This description should be written as if for other developers or users who might use your tool.\n",
        "3. Write a few test cases to validate your tool. Consider edge cases such as empty files, very large files, files with unusual characters, and so on.\n",
        "4. Discuss how you would modify your tool to analyze binary files, or large files that do not fit into memory. What kind of analysis could be useful in these cases?\n",
        "5. Provide a few example text files and show the output of your program when run with these files.\n",
        "\n",
        "Remember to include necessary error handling in your program to make it robust and reliable.\n",
        "\n",
        "**[40 Marks]**"
      ],
      "metadata": {
        "id": "w3Y-At852J91"
      }
    },
    {
      "cell_type": "markdown",
      "source": [
        "**Answer of No 1**"
      ],
      "metadata": {
        "id": "YAO-lOFaSjBP"
      }
    },
    {
      "cell_type": "code",
      "source": [
        "import string\n",
        "\n",
        "def count_lines(filepath):\n",
        "    with open(filepath, 'r') as f:\n",
        "        return len(f.readlines())\n",
        "\n",
        "def count_words(filepath):\n",
        "    with open(filepath, 'r') as f:\n",
        "        return len(f.read().split())\n",
        "\n",
        "def count_characters(filepath, include_whitespace=True):\n",
        "    with open(filepath, 'r') as f:\n",
        "        if include_whitespace:\n",
        "            return len(f.read())\n",
        "        else:\n",
        "            return len(f.read().replace(' ', '').replace('\\n', ''))\n",
        "\n",
        "def word_frequency(filepath):\n",
        "    word_freq = {}\n",
        "    with open(filepath, 'r') as f:\n",
        "        text = f.read().lower()\n",
        "        for char in string.punctuation:\n",
        "            text = text.replace(char, ' ')\n",
        "        for word in text.split():\n",
        "            if word not in word_freq:\n",
        "                word_freq[word] = 0\n",
        "            word_freq[word] += 1\n",
        "    return word_freq\n",
        "\n",
        "def top_words(filepath, num_words=5):\n",
        "    word_freq = word_frequency(filepath)\n",
        "    sorted_words = sorted(word_freq.items(), key=lambda x: x[1], reverse=True)\n",
        "    return [word[0] for word in sorted_words[:num_words]]\n",
        "\n",
        "filepath = input(\"Enter the path to the text file: \")\n",
        "\n",
        "print(\"1. Count lines\")\n",
        "print(\"2. Count words\")\n",
        "print(\"3. Count characters (including whitespace)\")\n",
        "print(\"4. Count characters (excluding whitespace)\")\n",
        "print(\"5. Word frequency\")\n",
        "print(\"6. Top 5 most common words\")\n",
        "\n",
        "choice = input(\"Enter your choice (1-6): \")\n",
        "\n",
        "if choice == '1':\n",
        "    print(f\"Number of lines: {count_lines(filepath)}\")\n",
        "elif choice == '2':\n",
        "    print(f\"Number of words: {count_words(filepath)}\")\n",
        "elif choice == '3':\n",
        "    print(f\"Number of characters (including whitespace): {count_characters(filepath)}\")\n",
        "elif choice == '4':\n",
        "    print(f\"Number of characters (excluding whitespace): {count_characters(filepath, include_whitespace=False)}\")\n",
        "elif choice == '5':\n",
        "    print(\"Word frequency:\")\n",
        "    word_freq = word_frequency(filepath)\n",
        "    for word, freq in word_freq.items():\n",
        "        print(f\"{word}: {freq}\")\n",
        "elif choice == '6':\n",
        "    print(\"Top 5 most common words:\")\n",
        "    top_words_list = top_words(filepath)\n",
        "    for i, word in enumerate(top_words_list):\n",
        "        print(f\"{i+1}. {word}\")\n",
        "else:\n",
        "    print(\"Invalid choice. Please enter a number between 1 and 6.\")\n"
      ],
      "metadata": {
        "id": "zoCxW41oJlmX"
      },
      "execution_count": null,
      "outputs": []
    },
    {
      "cell_type": "markdown",
      "source": [
        "**Answer of No 2**\n",
        "\n",
        "The user must enter the path to the text file they want to study in order to run the software. The user will then be presented with a list of available options for analysis by the program. When a user chooses an option, the application analyzes the text file using the chosen method and displays the findings.\n",
        "\n",
        "There are several alternatives for analysis:\n",
        "\n",
        "1. Count the lines: This choice counts the lines in the text file and shows the outcome.\n",
        "\n",
        "2. Calculate the total word count in the text file: This option calculates the total word count in the text file and displays the result.\n",
        "\n",
        "3. Count all characters in the text file, including blank spaces. This option counts all characters in the text file, including blank spaces, and displays the results.\n",
        "\n",
        "4. Count all characters (except whitespace): This option counts all characters (including whitespace) in the text file and displays the results.\n",
        "\n",
        "5. Count the number of times each word appears in the text: This choice counts the number of times each word appears in the text file and shows the information.\n",
        "\n",
        "6. List the top 5 most often occurring words in the text: This option lists the top 5 most frequently occurring words in the text file.\n",
        "\n",
        "\n",
        "To do various sorts of analysis on the text file, this software defines five functions: count_lines(), count_words(), count_characters(), word_frequency(), and top_words().\n",
        "\n",
        "-The count_lines() function reads the file and determines how many lines are present.\n",
        "\n",
        "-The count_words() function reads the file and determines how many words are present.\n",
        "\n",
        "-Depending on the include_whitespace option, the count_characters() method counts the number of characters in the file after reading it, either including or excluding whitespace.\n",
        "\n",
        "-The word_frequency() method reads the file, lowercases all letters, strips out punctuation, and counts the number of times each word appears. The word is the key, and the frequency is the value, and it returns a dictionary."
      ],
      "metadata": {
        "id": "zsxhzSB5EJYt"
      }
    },
    {
      "cell_type": "markdown",
      "source": [
        "**Answer of No 3**\n",
        "\n",
        "Test Cases:\n",
        "\n",
        "1. Empty file: For all analysis parameters, the application should output 0.\n",
        "\n",
        "2. A very large file should be handled by the application without causing it to crash or produce inaccurate results.\n",
        "\n",
        "3. File with uncharacter files: The software ought to be able to handle files that contain uncommon characters, including non-ASCII characters or unique symbols.\n"
      ],
      "metadata": {
        "id": "vNx64owKUZwS"
      }
    },
    {
      "cell_type": "markdown",
      "source": [
        "**Answer of No 4**\n",
        "\n",
        "Analyzing binary files or huge files that don't fit in memory requires modification:\n",
        "\n",
        "The program would need to be altered to read the file in pieces rather than all at once in order to analyze binary files or big files that do not fit into memory. In order to do this, you would first read a piece of the file, analyze it, then toss it aside and read the next portion. The program would be able to handle files of any size using this method, but it would take longer than simply reading the full file into memory all at once.\n",
        "\n",
        "Finding the most frequent byte sequences or patterns in the file, figuring out the file format or type, or confirming the existence of particular headers or signatures that reveal the file content are all examples of analysis that could be helpful in these situations.\n"
      ],
      "metadata": {
        "id": "5rwRdWjhWCjX"
      }
    },
    {
      "cell_type": "markdown",
      "source": [
        "# Question 2\n",
        "\n",
        "**Question:**\n",
        "\n",
        "As a new junior developer at EcommEasy, an e-commerce platform company, you're assigned to debug and refactor a piece of code left by one of the departed team members. This code is meant to determine if a customer is eligible for a certain promotional discount based on their total order value.\n",
        "\n",
        "Unfortunately, the code is obfuscated, lacks documentation, and doesn't function as expected. Your task is to identify the error, correct it, and refactor the code according to the best industry practices, which include clear variable naming, detailed comments, error handling, and overall code readability.\n",
        "\n",
        "Here is the problematic code:\n",
        "\n",
        "```python\n",
        "def promo(o):\n",
        "    p = None\n",
        "    if o > 50 and o < 100:\n",
        "        p = 5\n",
        "    elif o > 100:\n",
        "        p = 10\n",
        "    else:\n",
        "        p = 0\n",
        "    if o <= 0 or o is None:\n",
        "        raise ValueError(\"Order value not valid!\")\n",
        "    return o*(p/100)\n",
        "```\n",
        "\n",
        "*Question subparts:*\n",
        "\n",
        "1. What is the error in the above code and why does it fail to calculate the promotional discount correctly?\n",
        "2. How would you correct the error?\n",
        "3. How would you refactor this code to align it with industry best practices? Write the refactored code within this or another notebook. Please include appropriate variable names, comments, error handling, and a basic explanation of the code for a layperson.\n",
        "4. Write a few test cases to confirm the code is functioning as expected.\n",
        "\n",
        "Hint: The promo function is supposed to apply a 5% discount if the order total is between \\$50 and \\$100 (inclusive), and a 10% discount if the order total exceeds \\$100. Orders less than or equal to \\$0 or null should raise an exception.\n",
        "\n",
        "**[20 Marks]**"
      ],
      "metadata": {
        "id": "yYD1q2Mx95vB"
      }
    },
    {
      "cell_type": "markdown",
      "source": [
        "**Answer of No 1**\n",
        "\n",
        "The code has an error:\n",
        "\n",
        "The promotional discount percentage (p) is calculated as a float rather than an integer, which is a mistake in the code. The outcome of multiplying the order value by a float is also a float, which may not be what was intended.\n"
      ],
      "metadata": {
        "id": "lpnBRDOTWrf8"
      }
    },
    {
      "cell_type": "markdown",
      "source": [
        "**Answer of No 2**\n",
        "\n",
        "Correction:\n",
        "\n",
        "The adjustment entails increasing the order value by the promotional discount percentage (p) before converting it to an integer. Integer division can be used to accomplish this instead of standard division."
      ],
      "metadata": {
        "id": "j5LKRd3pXAuW"
      }
    },
    {
      "cell_type": "markdown",
      "source": [
        "**Answer of No 3**"
      ],
      "metadata": {
        "id": "LSvRyb2fZLb3"
      }
    },
    {
      "cell_type": "code",
      "source": [
        "def calculate_promotional_discount(order_value):\n",
        "    \"\"\"\n",
        "    Calculates the promotional discount based on the total order value.\n",
        "\n",
        "    Args:\n",
        "    order_value (float): The total order value.\n",
        "\n",
        "    Returns:\n",
        "    float: The promotional discount amount.\n",
        "    \"\"\"\n",
        "    if order_value is None or order_value <= 0:\n",
        "        raise ValueError(\"Order value is not valid!\")\n",
        "\n",
        "    discount_percentage = None\n",
        "    if order_value > 50 and order_value < 100:\n",
        "        discount_percentage = 5\n",
        "    elif order_value >= 100:\n",
        "        discount_percentage = 10\n",
        "    else:\n",
        "        discount_percentage = 0\n",
        "\n",
        "    promotional_discount = order_value * (discount_percentage / 100)\n",
        "    return promotional_discount\n",
        "\n"
      ],
      "metadata": {
        "id": "IWWm6XAjfI3r"
      },
      "execution_count": null,
      "outputs": []
    },
    {
      "cell_type": "markdown",
      "source": [
        "This code has been refactored in the following ways:\n",
        "\n",
        "1. To make the function more explicit, the name was changed to \"calculate_promotional_discount\".\n",
        "2. To make the parameter name more explicit, it was changed from \"o\" to \"order_value.\"\n",
        "3. Added a docstring to describe the function's objective, input parameters, and output.\n",
        "4. Added exception handling in case the order value is incorrect.\n",
        "5. To make the variable name more informative, I changed 'p' to 'discount_percentage'.\n",
        "6. Added a note to clarify how the discount percentage was determined.\n",
        "7. To accommodate edge cases, I changed the comparison operator from \">\" to \">=\" in the second \"if\" statement.\n",
        "8. Returned the promotional discount amount on the return statement.\n",
        "\n",
        "These modifications improve the code's readability, clarity, and maintainability overall."
      ],
      "metadata": {
        "id": "tIETCFyiZe8h"
      }
    },
    {
      "cell_type": "code",
      "source": [
        "# Test case 1: Valid order value less than $50\n",
        "assert calculate_promotional_discount(25) == 0\n",
        "\n",
        "# Test case 2: Valid order value between $50 and $100\n",
        "assert calculate_promotional_discount(75) == 3.75\n",
        "\n",
        "# Test case 3: Valid order value greater than or equal to $100\n",
        "assert calculate_promotional_discount(150) == 15\n",
        "\n",
        "# Test case 4: Order value is zero\n",
        "try:\n",
        "    calculate_promotional_discount(0)\n",
        "except ValueError as e:\n",
        "    assert str(e) == \"Order value is not valid!\"\n",
        "\n",
        "# Test case 5: Order value is negative\n",
        "try:\n",
        "    calculate_promotional_discount(-50)\n",
        "except ValueError as e:\n",
        "    assert str(e) == \"Order value is not valid!\"\n",
        "\n",
        "# Test case 6: Order value is None\n",
        "try:\n",
        "    calculate_promotional_discount(None)\n",
        "except ValueError as e:\n",
        "    assert str(e) == \"Order value is not valid!\""
      ],
      "metadata": {
        "id": "tYzPJykaZlTP"
      },
      "execution_count": null,
      "outputs": []
    },
    {
      "cell_type": "markdown",
      "source": [
        "Explanation:\n",
        "\n",
        "To make sure that the method appropriately processes both valid and invalid input values, these test cases cover a variety of circumstances. If every assertion is successful, we may be sure that the code is operating as intended.\n",
        "\n",
        "The refactored function now accepts the order value as an argument and, based on that value, provides the appropriate promotional discount. A ValueError is raised if the order value is less than or equal to 0 or None. A 5% discount is granted if the order's total is between $50  and $100 (included). A 10% discount is given if the purchase total exceeds $100. A non-negative integer reflecting the promotional discount is returned as the outcome."
      ],
      "metadata": {
        "id": "MraLME98aTDo"
      }
    },
    {
      "cell_type": "markdown",
      "source": [
        "# Question 3\n",
        "\n",
        "You have been given a task to develop a simple script that extracts news articles' title and text from a list of URLs. Your company, DataScrapr, is working on a project to analyze the sentiment of news articles from several news outlets and this task is the first step in the data collection process.\n",
        "\n",
        "The task requires you to use Python, along with the `Newspaper3k` library, which is a simple and efficient tool for extracting and curating articles.\n",
        "\n",
        "Here is your task:\n",
        "\n",
        "1. Write a Python script that takes a list of URLs as input. Each URL points to a news article.\n",
        "2. For each URL, your script should extract the article's title and the full text of the article.\n",
        "3. The output of your script should be a list of dictionaries. Each dictionary should contain the URL, the article title, and the article text.\n",
        "4. Include error checking in your script to handle possible issues with the URLs or the extraction process.\n",
        "\n",
        "*Question subparts:*\n",
        "\n",
        "1. Implement the above-described script.\n",
        "2. Explain how your script works and the role of the `Newspaper3k` library in the script.\n",
        "3. How would you handle potential issues, such as a URL that doesn't point to a valid article or network errors?\n",
        "4. Provide a few example URLs and show the output of your script when run with these URLs.\n",
        "\n",
        "Note: Please be mindful of the terms of use for any website you are scraping, and make sure to respect the website's robots.txt file.\n",
        "\n",
        "**[25 marks]**"
      ],
      "metadata": {
        "id": "YaDX0dOQA_py"
      }
    },
    {
      "cell_type": "markdown",
      "source": [
        "**Answer of No 1,2,3,4:**"
      ],
      "metadata": {
        "id": "5mssCQzvnefc"
      }
    },
    {
      "cell_type": "code",
      "source": [
        "!pip install newspaper3k"
      ],
      "metadata": {
        "id": "-RtuSSt0kEgI"
      },
      "execution_count": null,
      "outputs": []
    },
    {
      "cell_type": "code",
      "source": [
        "import newspaper\n",
        "from newspaper import Article\n",
        "\n",
        "def extract_articles(urls):\n",
        "    articles = []\n",
        "    for url in urls:\n",
        "        try:\n",
        "            article = Article(url)\n",
        "            article.download()\n",
        "            article.parse()\n",
        "            title = article.title\n",
        "            text = article.text\n",
        "            articles.append({\"url\": url, \"title\": title, \"text\": text})\n",
        "        except Exception as e:\n",
        "            print(f\"Error extracting article from {url}: {e}\")\n",
        "    return articles\n",
        "\n",
        "# Example usage\n",
        "urls = [\"https://news.sky.com/\",\n",
        "        \"https://www.cnn.com/\",\n",
        "        \"https://www.nytimes.com/2022/04/14/us/politics/biden-russia-ukraine-call.html\"]\n",
        "articles = extract_articles(urls)\n",
        "print(articles)"
      ],
      "metadata": {
        "id": "osaBpxsQfIQJ"
      },
      "execution_count": null,
      "outputs": []
    },
    {
      "cell_type": "markdown",
      "source": [
        "**Answer of Question Subpart No 1**\n",
        "\n",
        "We initially import the 'newspaper' library and its 'Article' class in our script. We create the 'extract_articles' function, which takes a list of URLs as input and outputs a list of dictionaries holding the URL, title, and text of each article.\n",
        "\n",
        "The 'Article' class is used to download and parse the article when we loop over each URL inside the function. The title and text are taken out and added to a list of dictionaries. We catch the exception and print an error message if an error occurs when extracting data.\n",
        "\n",
        "Finally, we show how to use the function by outputting the list of dictionaries that is produced after giving in a list of example URLs.\n"
      ],
      "metadata": {
        "id": "6LancbkIn-8v"
      }
    },
    {
      "cell_type": "code",
      "source": [
        "import newspaper\n",
        "\n",
        "url = input(\"Enter article URL: \")\n",
        "article = newspaper.Article(url)\n",
        "article.download()\n",
        "article.parse()\n",
        "\n",
        "print(article.title)\n",
        "print(article.authors)\n",
        "print(article.publish_date)\n",
        "print(article.text)"
      ],
      "metadata": {
        "id": "6LsaR2m9pKMo"
      },
      "execution_count": null,
      "outputs": []
    },
    {
      "cell_type": "markdown",
      "source": [
        "**Answer of Question Subpart No 2**\n",
        "\n",
        "A description of the plot and the function of the Newspaper3k library\n",
        "\n",
        "The script downloads and parses the articles using the Newspaper3k library. Newspaper3k is a Python web scraping tool that makes it easier to pull articles from news websites. Ads, navigation menus, and other non-article items are automatically detected and removed.\n",
        "\n",
        "The Newspaper3k library's 'Article' class is used to represent an article. It offers ways to extract and parse the content of the articles.\n",
        "\n",
        "The article's HTML content is downloaded from the URL using the 'download' technique. The 'text' and 'title' elements of the 'Article' object are filled with the article material that was extracted from the HTML by the 'parse' method."
      ],
      "metadata": {
        "id": "Ij08VQ2_kueW"
      }
    },
    {
      "cell_type": "markdown",
      "source": [
        "**Answer of Question Subpart No 3**\n",
        "\n",
        "Managing any potential problems\n",
        "\n",
        "To address any potential problems with the URLs or the extraction procedure, the script incorporates error checks. 'get_article_info' returns 'None' if the download or parsing is unsuccessful. The function \"get_articles_info\" verifies the value returned by \"get_article_info\" and only adds articles to the list of dictionaries that were properly extracted.\n",
        "\n",
        "We could use the'requests' library to incorporate a retry mechanism into the 'download' method to manage network problems. We could, for instance, retry up to three times with a one-second gap between each attempt:\n",
        "\n",
        "\n"
      ],
      "metadata": {
        "id": "PDpwiymulRz5"
      }
    },
    {
      "cell_type": "code",
      "source": [
        "import newspaper\n",
        "\n",
        "url = input(\"Enter article URL: \")\n",
        "article = newspaper.Article(url)\n",
        "\n",
        "try:\n",
        "    article.download()\n",
        "    article.parse()\n",
        "except:\n",
        "    print(\"Error: Invalid URL or network error.\")\n",
        "\n",
        "print(article.title)\n",
        "print(article.authors)\n",
        "print(article.publish_date)\n",
        "print(article.text)"
      ],
      "metadata": {
        "id": "g2Ag9xP0of8v"
      },
      "execution_count": null,
      "outputs": []
    },
    {
      "cell_type": "markdown",
      "source": [
        "**Answer of Question Subpart No 4:**\n",
        "\n",
        "We can use the following sample URLs to test the script:"
      ],
      "metadata": {
        "id": "mEfkJeppmPgf"
      }
    },
    {
      "cell_type": "code",
      "source": [
        "urls = ['https://www.independent.co.uk/topic/bbc', 'https://edition.cnn.com', 'https://news.sky.com']\n",
        "articles = extract_articles(urls)\n",
        "print(articles)\n"
      ],
      "metadata": {
        "id": "BY7_3ZeMmDZt"
      },
      "execution_count": null,
      "outputs": []
    },
    {
      "cell_type": "markdown",
      "source": [
        "# Question 4\n",
        "\n",
        "Write a reflective report that identifies and discusses what you perceive as the most impactful activity within this course unit, and its contributions to your understanding of an ISYS2001 activity or topic. **Additionally, please incorporate all your weekly journal entries as an appendix to this report.** The report should be prepared in a Microsoft Word document, which will be submitted via the TurnItin link available on Blackboard.\n",
        "\n",
        "**[15 marks]**"
      ],
      "metadata": {
        "id": "YQ0itNBkCClk"
      }
    },
    {
      "cell_type": "markdown",
      "source": [
        "For question 4, the answer will be in the word document."
      ],
      "metadata": {
        "id": "PjCWLY3ZrG1i"
      }
    },
    {
      "cell_type": "markdown",
      "source": [
        "**References**\n",
        "\n",
        "\n",
        "CNN. 2023. Russia's war in Ukraine. https://edition.cnn.com/europe/live-news/russia-ukraine-war-news-06-13-23/index.html.\n",
        "\n",
        "Independent. 2023. Search continues for missing Chloe Mitchell one week on from her disappearance. https://www.independent.co.uk/topic/bbc.\n",
        "\n",
        "Sky News.2023. Nottingham: Several roads closed as police deal with major incident. https://news.sky.com/story/nottingham-roads-closed-as-police-deal-with-major-incident-12901445.\n",
        "\n",
        "\n",
        "The Guardian. 2023. Russia - Ukraine war. https://www.theguardian.com/international.\n",
        "\n",
        "The New York Times. 2023. Trump Has Options for Fighting Charges, but     They Might Face Challenges. https://www.nytimes.com/international/.\n",
        "\n",
        "\n"
      ],
      "metadata": {
        "id": "tkWCDBI9sCke"
      }
    }
  ]
}