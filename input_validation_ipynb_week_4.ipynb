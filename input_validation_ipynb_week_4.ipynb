{
  "cells": [
    {
      "cell_type": "markdown",
      "id": "b5835b0c",
      "metadata": {
        "id": "b5835b0c"
      },
      "source": [
        "# Input Validation\n",
        "\n",
        "Input validation code verifies that user supplied data, such as text from the input() function, is formatted appropriately.\n",
        "\n",
        "* try/except\n",
        "* isdigit()\n",
        "* pyinputplus\n",
        "\n",
        "## try/except"
      ]
    },
    {
      "cell_type": "code",
      "execution_count": 2,
      "id": "695b1f5f",
      "metadata": {
        "id": "695b1f5f",
        "colab": {
          "base_uri": "https://localhost:8080/"
        },
        "outputId": "0519d810-e9bc-47a6-9121-e321535c4413"
      },
      "outputs": [
        {
          "output_type": "stream",
          "name": "stdout",
          "text": [
            "How old are you? 21.3\n",
            "Please enter a whole number\n",
            "How old are you? 22\n",
            "Your age is: 22\n"
          ]
        }
      ],
      "source": [
        "while True:\n",
        "  try:\n",
        "    age = int(input('How old are you? '))\n",
        "    break\n",
        "  except ValueError:\n",
        "    print('Please enter a whole number')\n",
        "\n",
        "print('Your age is: ' + str(age))"
      ]
    },
    {
      "cell_type": "code",
      "source": [],
      "metadata": {
        "id": "cQvBN7bFfB5k"
      },
      "id": "cQvBN7bFfB5k",
      "execution_count": null,
      "outputs": []
    },
    {
      "cell_type": "markdown",
      "id": "acc7252b",
      "metadata": {
        "id": "acc7252b"
      },
      "source": [
        "## isdigit()"
      ]
    },
    {
      "cell_type": "code",
      "execution_count": 3,
      "id": "5f98c241",
      "metadata": {
        "id": "5f98c241",
        "colab": {
          "base_uri": "https://localhost:8080/"
        },
        "outputId": "c059c5d6-ea0d-4d0d-abd1-7df718ae8588"
      },
      "outputs": [
        {
          "output_type": "stream",
          "name": "stdout",
          "text": [
            "How old are you? twenty\n",
            "You must enter a valid number\n",
            "How old are you? 20\n",
            "You are 20\n"
          ]
        }
      ],
      "source": [
        "while True:\n",
        "  age = input('How old are you? ')\n",
        "  if age.isdigit():\n",
        "    break\n",
        "  else:\n",
        "    print('You must enter a valid number')\n",
        "\n",
        "print('You are ' + str(age))"
      ]
    },
    {
      "cell_type": "markdown",
      "id": "18c00dc3",
      "metadata": {
        "id": "18c00dc3"
      },
      "source": [
        "## Module: pyinputs"
      ]
    },
    {
      "cell_type": "code",
      "execution_count": null,
      "id": "dfe1740b",
      "metadata": {
        "id": "dfe1740b",
        "colab": {
          "base_uri": "https://localhost:8080/"
        },
        "outputId": "f16158e5-806b-4104-9cfd-019693f4b9b2"
      },
      "outputs": [
        {
          "output_type": "stream",
          "name": "stdout",
          "text": [
            "Looking in indexes: https://pypi.org/simple, https://us-python.pkg.dev/colab-wheels/public/simple/\n",
            "Collecting PyInputPlus\n",
            "  Downloading PyInputPlus-0.2.12.tar.gz (20 kB)\n",
            "  Installing build dependencies ... \u001b[?25l\u001b[?25hdone\n",
            "  Getting requirements to build wheel ... \u001b[?25l\u001b[?25hdone\n",
            "  Preparing metadata (pyproject.toml) ... \u001b[?25l\u001b[?25hdone\n",
            "Collecting stdiomask>=0.0.3\n",
            "  Downloading stdiomask-0.0.6.tar.gz (3.6 kB)\n",
            "  Installing build dependencies ... \u001b[?25l\u001b[?25hdone\n",
            "  Getting requirements to build wheel ... \u001b[?25l\u001b[?25hdone\n",
            "  Preparing metadata (pyproject.toml) ... \u001b[?25l\u001b[?25hdone\n",
            "Collecting pysimplevalidate>=0.2.7\n",
            "  Downloading PySimpleValidate-0.2.12.tar.gz (22 kB)\n",
            "  Installing build dependencies ... \u001b[?25l\u001b[?25hdone\n",
            "  Getting requirements to build wheel ... \u001b[?25l\u001b[?25hdone\n",
            "  Preparing metadata (pyproject.toml) ... \u001b[?25l\u001b[?25hdone\n",
            "Building wheels for collected packages: PyInputPlus, pysimplevalidate, stdiomask\n",
            "  Building wheel for PyInputPlus (pyproject.toml) ... \u001b[?25l\u001b[?25hdone\n",
            "  Created wheel for PyInputPlus: filename=PyInputPlus-0.2.12-py3-none-any.whl size=11314 sha256=75a71c8e51202c28d4105bd9f62a202d66e15a8b46f5af0bca972f95a4e03325\n",
            "  Stored in directory: /root/.cache/pip/wheels/b4/6e/2f/8a852732646cabec36c3fe8fc060ec5bea1c1be711432c47f7\n",
            "  Building wheel for pysimplevalidate (pyproject.toml) ... \u001b[?25l\u001b[?25hdone\n",
            "  Created wheel for pysimplevalidate: filename=PySimpleValidate-0.2.12-py3-none-any.whl size=16187 sha256=2673669a0397691a1e3d6ef8773813085ce6906323a2bde68859d43beb2f3931\n",
            "  Stored in directory: /root/.cache/pip/wheels/b1/44/4a/043a4f4c4512c7cdfb0c2b8408b18b0de5fd45cac57f5dfa02\n",
            "  Building wheel for stdiomask (pyproject.toml) ... \u001b[?25l\u001b[?25hdone\n",
            "  Created wheel for stdiomask: filename=stdiomask-0.0.6-py3-none-any.whl size=3318 sha256=53f9a072619287c148655db60f5a69900d4ea352a554022a988bb8a48f5ed4e3\n",
            "  Stored in directory: /root/.cache/pip/wheels/1d/aa/47/f41f117d22c5de82e95d9342f44da578c80610739a2d5ebec4\n",
            "Successfully built PyInputPlus pysimplevalidate stdiomask\n",
            "Installing collected packages: stdiomask, pysimplevalidate, PyInputPlus\n",
            "Successfully installed PyInputPlus-0.2.12 pysimplevalidate-0.2.12 stdiomask-0.0.6\n"
          ]
        }
      ],
      "source": [
        "!pip install PyInputPlus"
      ]
    },
    {
      "cell_type": "code",
      "source": [
        "import pyinputplus as pyip\n",
        "\n",
        "response = pyip.inputNum(\"How old are you?\")\n",
        "\n",
        "print(f'You are {age} years old')"
      ],
      "metadata": {
        "id": "OvqPitIkh379",
        "colab": {
          "base_uri": "https://localhost:8080/"
        },
        "outputId": "4240f0c0-8ba9-460e-f900-7a43bb099d07"
      },
      "id": "OvqPitIkh379",
      "execution_count": null,
      "outputs": [
        {
          "output_type": "stream",
          "name": "stdout",
          "text": [
            "How old are you?ten\n",
            "'ten' is not a number.\n",
            "How old are you?ten\n",
            "'ten' is not a number.\n",
            "How old are you?10\n",
            "You are 10 years old\n"
          ]
        }
      ]
    },
    {
      "cell_type": "code",
      "source": [
        "dir(pyip)\n"
      ],
      "metadata": {
        "id": "BSY3chdWieP1",
        "colab": {
          "base_uri": "https://localhost:8080/"
        },
        "outputId": "673dddfb-3d59-4962-a6b3-a2bf54382cd5"
      },
      "id": "BSY3chdWieP1",
      "execution_count": null,
      "outputs": [
        {
          "output_type": "execute_result",
          "data": {
            "text/plain": [
              "['Any',\n",
              " 'Callable',\n",
              " 'Optional',\n",
              " 'Pattern',\n",
              " 'PyInputPlusException',\n",
              " 'RetryLimitException',\n",
              " 'Sequence',\n",
              " 'TimeoutException',\n",
              " 'Union',\n",
              " 'ValidationException',\n",
              " '__builtins__',\n",
              " '__cached__',\n",
              " '__doc__',\n",
              " '__file__',\n",
              " '__loader__',\n",
              " '__name__',\n",
              " '__package__',\n",
              " '__path__',\n",
              " '__spec__',\n",
              " '__version__',\n",
              " '_checkLimitAndTimeout',\n",
              " '_genericInput',\n",
              " 'absolute_import',\n",
              " 'division',\n",
              " 'functionName',\n",
              " 'inputAddress',\n",
              " 'inputBool',\n",
              " 'inputChoice',\n",
              " 'inputCustom',\n",
              " 'inputDate',\n",
              " 'inputDatetime',\n",
              " 'inputDayOfMonth',\n",
              " 'inputDayOfWeek',\n",
              " 'inputEmail',\n",
              " 'inputFilename',\n",
              " 'inputFilepath',\n",
              " 'inputFloat',\n",
              " 'inputIP',\n",
              " 'inputInt',\n",
              " 'inputMenu',\n",
              " 'inputMonth',\n",
              " 'inputName',\n",
              " 'inputNum',\n",
              " 'inputPassword',\n",
              " 'inputPhone',\n",
              " 'inputRegex',\n",
              " 'inputRegexStr',\n",
              " 'inputStr',\n",
              " 'inputTime',\n",
              " 'inputURL',\n",
              " 'inputUSState',\n",
              " 'inputYesNo',\n",
              " 'inputZip',\n",
              " 'parameters',\n",
              " 'print_function',\n",
              " 'pysv',\n",
              " 'stdiomask',\n",
              " 'time',\n",
              " 'validateAddress',\n",
              " 'validateBool',\n",
              " 'validateChoice',\n",
              " 'validateDate',\n",
              " 'validateDatetime',\n",
              " 'validateDayOfMonth',\n",
              " 'validateDayOfWeek',\n",
              " 'validateEmail',\n",
              " 'validateFilename',\n",
              " 'validateFilepath',\n",
              " 'validateFloat',\n",
              " 'validateIP',\n",
              " 'validateIPv4',\n",
              " 'validateIPv6',\n",
              " 'validateInt',\n",
              " 'validateMonth',\n",
              " 'validateName',\n",
              " 'validateNum',\n",
              " 'validatePhone',\n",
              " 'validateRegex',\n",
              " 'validateRegexStr',\n",
              " 'validateStr',\n",
              " 'validateTime',\n",
              " 'validateURL',\n",
              " 'validateUSState',\n",
              " 'validateYesNo']"
            ]
          },
          "metadata": {},
          "execution_count": 6
        }
      ]
    },
    {
      "cell_type": "code",
      "source": [],
      "metadata": {
        "id": "g-Rz50i2SxQ2"
      },
      "id": "g-Rz50i2SxQ2",
      "execution_count": null,
      "outputs": []
    }
  ],
  "metadata": {
    "kernelspec": {
      "display_name": "Python 3 (ipykernel)",
      "language": "python",
      "name": "python3"
    },
    "language_info": {
      "codemirror_mode": {
        "name": "ipython",
        "version": 3
      },
      "file_extension": ".py",
      "mimetype": "text/x-python",
      "name": "python",
      "nbconvert_exporter": "python",
      "pygments_lexer": "ipython3",
      "version": "3.9.6"
    },
    "colab": {
      "provenance": []
    }
  },
  "nbformat": 4,
  "nbformat_minor": 5
}